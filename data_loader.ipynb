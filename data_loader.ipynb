{
 "cells": [
  {
   "cell_type": "code",
   "execution_count": 1,
   "metadata": {},
   "outputs": [
    {
     "name": "stderr",
     "output_type": "stream",
     "text": [
      "2024-01-03 11:27:01.679869: I tensorflow/core/util/port.cc:110] oneDNN custom operations are on. You may see slightly different numerical results due to floating-point round-off errors from different computation orders. To turn them off, set the environment variable `TF_ENABLE_ONEDNN_OPTS=0`.\n",
      "2024-01-03 11:27:01.681178: I tensorflow/tsl/cuda/cudart_stub.cc:28] Could not find cuda drivers on your machine, GPU will not be used.\n",
      "2024-01-03 11:27:01.708948: I tensorflow/core/platform/cpu_feature_guard.cc:182] This TensorFlow binary is optimized to use available CPU instructions in performance-critical operations.\n",
      "To enable the following instructions: AVX2 AVX_VNNI FMA, in other operations, rebuild TensorFlow with the appropriate compiler flags.\n",
      "2024-01-03 11:27:02.198204: W tensorflow/compiler/tf2tensorrt/utils/py_utils.cc:38] TF-TRT Warning: Could not find TensorRT\n"
     ]
    }
   ],
   "source": [
    "import torch\n",
    "import torch.nn as nn\n",
    "from torch.utils.data import Dataset, DataLoader\n",
    "import pandas as pd\n",
    "import numpy as np\n",
    "from dataloader import *\n",
    "from torch.utils.tensorboard import SummaryWriter\n",
    "import matplotlib.pyplot as plt"
   ]
  },
  {
   "cell_type": "markdown",
   "metadata": {},
   "source": [
    "Le ECL dataset est un dataset sur la consommation d'electricité de 321 clients toutes les heures entre 2012 et 2014.   \n",
    "Les colonnes représentent les 321 clients et il y a 26 304 lignes. \n",
    " "
   ]
  },
  {
   "cell_type": "markdown",
   "metadata": {},
   "source": [
    "## Load data"
   ]
  },
  {
   "cell_type": "code",
   "execution_count": 2,
   "metadata": {},
   "outputs": [],
   "source": [
    "ecl_data = pd.read_csv('electricity.csv', header=None).to_numpy()"
   ]
  },
  {
   "cell_type": "code",
   "execution_count": 3,
   "metadata": {},
   "outputs": [],
   "source": [
    "# Diviser les données en ensembles de train, test et validation\n",
    "train_data = ecl_data[:18317]\n",
    "test_data = ecl_data[18317:18317+2633]\n",
    "val_data = ecl_data[18317+2633:]"
   ]
  },
  {
   "cell_type": "code",
   "execution_count": 134,
   "metadata": {},
   "outputs": [],
   "source": [
    "batch_size = 32\n",
    "\n",
    "train_dataset = MonDataLoader(ecl_data[:18317], 96, 96)\n",
    "train_loader = DataLoader(train_dataset, batch_size=batch_size, shuffle=False)\n",
    "\n",
    "eval_dataset = MonDataLoader(ecl_data[18317+2633:], 96, 96)\n",
    "eval_loader = DataLoader(eval_dataset, batch_size=batch_size, shuffle=False)\n",
    "\n",
    "test_dataset = MonDataLoader(ecl_data[18317:18317+2633], 96, 96)\n",
    "test_loader = DataLoader(test_dataset, batch_size=batch_size, shuffle=False)\n"
   ]
  },
  {
   "cell_type": "code",
   "execution_count": 135,
   "metadata": {},
   "outputs": [
    {
     "name": "stdout",
     "output_type": "stream",
     "text": [
      "torch.Size([32, 96, 321])\n",
      "torch.Size([32, 96, 321])\n"
     ]
    }
   ],
   "source": [
    "for x,y in train_loader: \n",
    "    print(x.shape)\n",
    "    print(y.shape)\n",
    "    break"
   ]
  },
  {
   "cell_type": "markdown",
   "metadata": {},
   "source": [
    "## Modèle"
   ]
  },
  {
   "cell_type": "code",
   "execution_count": 136,
   "metadata": {},
   "outputs": [],
   "source": [
    "class MLP(nn.Module):\n",
    "    def __init__(self, input_dim, output_dim):\n",
    "        super(MLP, self).__init__()\n",
    "        self.mlp = nn.Sequential(\n",
    "          nn.Linear(input_dim, input_dim),\n",
    "          nn.ReLU(),\n",
    "          nn.Linear(input_dim, output_dim),\n",
    "          nn.ReLU(),\n",
    "          nn.Linear(output_dim, output_dim), \n",
    "        )\n",
    "\n",
    "    def forward(self, x):\n",
    "        x = self.mlp(x)\n",
    "        return x\n",
    "\n",
    "\n",
    "class FeedForward(nn.Module):\n",
    "    def __init__(self, input_dim):\n",
    "        super(FeedForward, self).__init__()\n",
    "        self.feed_forward = nn.Sequential(\n",
    "          nn.Linear(input_dim, input_dim*4),\n",
    "          nn.GELU(),\n",
    "          nn.Dropout(),\n",
    "          nn.Linear(input_dim*4, input_dim), \n",
    "        )\n",
    "\n",
    "    def forward(self, x):\n",
    "        x = self.feed_forward(x)\n",
    "        return x\n",
    "\n",
    "class TrmBlock(nn.Module):\n",
    "    def __init__(self, embed_dim):\n",
    "      super(TrmBlock, self).__init__()\n",
    "\n",
    "      self.multivariate_attention= nn.MultiheadAttention(embed_dim, num_heads=1)\n",
    "      self.layer_norm1 = nn.LayerNorm(embed_dim)\n",
    "      self.feed_forward = FeedForward(embed_dim)\n",
    "      self.layer_norm2 = nn.LayerNorm(embed_dim)\n",
    "\n",
    "    def forward(self, x):\n",
    "      att,_ = self.multivariate_attention(x,x,x)\n",
    "      x= self.layer_norm1(x + att)\n",
    "      x= self.layer_norm2(x + self.feed_forward(x))\n",
    "      return x\n",
    "\n",
    "\n",
    "class iTransformer(nn.Module):\n",
    "    def __init__(self, T, D, S, num_blocks):\n",
    "      super(iTransformer, self).__init__()\n",
    "\n",
    "      self.embedding= MLP(T, D)\n",
    "      self.trmblock= nn.ModuleList([TrmBlock(D) for _ in range(num_blocks)])\n",
    "      self.projection= MLP(D, S)\n",
    "\n",
    "\n",
    "    def forward(self, x):\n",
    "      #print(x.shape)\n",
    "      x = x.transpose(1,2)\n",
    "      #print('transpose ', x.shape)\n",
    "      x = self.embedding(x)\n",
    "      #print('emb ',x.shape)\n",
    "      for block in self.trmblock:\n",
    "            x = block(x)\n",
    "      #print('trmblock ',x.shape)\n",
    "      y = self.projection(x)\n",
    "      #print('proj ', y.shape)\n",
    "      y=y.transpose(1,2)\n",
    "      #print('final ', y.shape)\n",
    "      return y"
   ]
  },
  {
   "cell_type": "code",
   "execution_count": 137,
   "metadata": {},
   "outputs": [
    {
     "name": "stdout",
     "output_type": "stream",
     "text": [
      "torch.Size([32, 96, 321])\n"
     ]
    }
   ],
   "source": [
    "N = 321 #nb variables\n",
    "T = 96 #input length (lookback window)\n",
    "D = 256 # ou 512\n",
    "S = 96 # ou 192, 336, 720\n",
    "#hidden_dim = 176 #dimension latente dans le feed forward du transformer \n",
    "num_blocks = 2 #3 ou 4 (nombre de block de transformer)\n",
    "\n",
    "itransformer = iTransformer(T, D, S, num_blocks)\n",
    "\n",
    "for x,y in train_loader:\n",
    "    x, y = x.float(), y.float()\n",
    "\n",
    "    yhat = itransformer(x)\n",
    "    print(yhat.shape)\n",
    "    break"
   ]
  },
  {
   "cell_type": "markdown",
   "metadata": {},
   "source": [
    "## Train"
   ]
  },
  {
   "cell_type": "code",
   "execution_count": 138,
   "metadata": {},
   "outputs": [],
   "source": [
    "def MAE(pred, true):\n",
    "    return np.mean(np.abs(pred - true))"
   ]
  },
  {
   "cell_type": "code",
   "execution_count": 139,
   "metadata": {},
   "outputs": [],
   "source": [
    "def MSE(pred, true):\n",
    "    return np.mean((pred - true) ** 2)"
   ]
  },
  {
   "cell_type": "code",
   "execution_count": 140,
   "metadata": {},
   "outputs": [],
   "source": [
    "def eval(model, val_loader, device, criterion, writer, epoch):\n",
    "    model.eval()\n",
    "\n",
    "    epoch_loss = []\n",
    "    #epoch_accuracy = []\n",
    "    with torch.no_grad():\n",
    "        for batch_idx, (data, target) in enumerate(val_loader):\n",
    "            data, target = data.float().to(device), target.float().to(device)\n",
    "            yhat = model(data)\n",
    "            loss = criterion(yhat, target)\n",
    "            \n",
    "            epoch_loss.append(loss.item())\n",
    "            #epoch_accuracy.append()\n",
    "\n",
    "        \"\"\"\n",
    "        writer.add_scalar('Loss validation', np.mean(epoch_loss), epoch)\n",
    "    \n",
    "        for name, weight in model.named_parameters():\n",
    "            writer.add_histogram(name, weight, epoch)\n",
    "            writer.add_histogram(f'{name}.grad', weight.grad, epoch)\n",
    "\n",
    "        entropie = criterion(logits,target)\n",
    "        writer.add_histogram('Entropy validation', entropie, epoch)\n",
    "        \n",
    "        writer.add_scalar('Accuracy validation', np.mean(epoch_accuracy), epoch)\n",
    "        \"\"\"\n",
    "\n",
    "        return np.mean(epoch_loss)\n",
    "        "
   ]
  },
  {
   "cell_type": "code",
   "execution_count": 141,
   "metadata": {},
   "outputs": [],
   "source": [
    "def train(model, optimizer, train_loader, val_loader, nb_epoch, device, writer):\n",
    "    \n",
    "    criterion = nn.MSELoss()\n",
    "    \n",
    "    loss_values = []\n",
    "    loss_eval = []\n",
    "\n",
    "\n",
    "    for epoch in range(nb_epoch):\n",
    "        print(\"epoch : \", epoch)\n",
    "\n",
    "        model.train()\n",
    "        epoch_loss = []\n",
    "\n",
    "        for i, (data, target) in enumerate(train_loader):\n",
    "            data, target = data.float().to(device), target.float().to(device)\n",
    "            optimizer.zero_grad()\n",
    "\n",
    "            yhat = model(data)\n",
    "            loss = criterion(yhat, target)\n",
    "\n",
    "            epoch_loss.append(loss.item())\n",
    "\n",
    "            loss.backward()\n",
    "            optimizer.step()\n",
    "\n",
    "\n",
    "        loss_values.append(np.mean(epoch_loss))\n",
    "\n",
    "        \"\"\"\n",
    "        writer.add_scalar('Loss train', np.mean(epoch_loss), epoch)\n",
    "    \n",
    "        for name, weight in model.named_parameters():\n",
    "            writer.add_histogram(f'{name}', weight, epoch)\n",
    "            writer.add_histogram(f'{name}.grad', weight.grad, epoch)\n",
    "\n",
    "        entropie = criterion(logits,target)\n",
    "        writer.add_histogram('Entropy train', entropie, epoch)\n",
    "        \n",
    "        writer.add_scalar('Accuracy train', np.mean(epoch_accuracy), epoch)\n",
    "\n",
    "        \"\"\"\n",
    "\n",
    "        epoch_loss_eval = eval(model, val_loader, device, criterion, writer, epoch)\n",
    "        loss_eval.append(epoch_loss_eval)\n",
    "        print(\"loss train :\", loss_values[-1])\n",
    "        print(\"loss eval :\", loss_eval[-1])\n",
    "\n",
    "        \n",
    "    return loss_values, loss_eval"
   ]
  },
  {
   "cell_type": "markdown",
   "metadata": {},
   "source": [
    "## Test"
   ]
  },
  {
   "cell_type": "code",
   "execution_count": 142,
   "metadata": {},
   "outputs": [
    {
     "name": "stdout",
     "output_type": "stream",
     "text": [
      "cpu\n"
     ]
    }
   ],
   "source": [
    "device = torch.device(\"cuda\" if torch.cuda.is_available() else \"cpu\")\n",
    "print(device)\n",
    "writer = SummaryWriter()"
   ]
  },
  {
   "cell_type": "code",
   "execution_count": 143,
   "metadata": {},
   "outputs": [],
   "source": [
    "N = 321 #nb variables\n",
    "T = 96 #input length (lookback window)\n",
    "D = 256 # ou 512\n",
    "S = 96 # ou 192, 336, 720\n",
    "#hidden_dim = 176 #dimension latente dans le feed forward du transformer \n",
    "num_blocks = 2 #3 ou 4 (nombre de block de transformer)\n",
    "\n",
    "itransformer = iTransformer( T, D, S, num_blocks)\n",
    "optimizer = torch.optim.Adam(itransformer.parameters(), lr=1e-3) #10−3, 5 × 10−4, 10−4 \n",
    "\n"
   ]
  },
  {
   "cell_type": "code",
   "execution_count": 144,
   "metadata": {},
   "outputs": [
    {
     "name": "stdout",
     "output_type": "stream",
     "text": [
      "epoch :  0\n",
      "loss train : 233341544.0\n",
      "loss eval : 265632720.0\n",
      "epoch :  1\n",
      "loss train : 233332726.66666666\n",
      "loss eval : 265614864.0\n",
      "epoch :  2\n",
      "loss train : 233304061.33333334\n",
      "loss eval : 265564688.0\n",
      "epoch :  3\n",
      "loss train : 233232782.66666666\n",
      "loss eval : 265452736.0\n",
      "epoch :  4\n",
      "loss train : 233085189.33333334\n",
      "loss eval : 265237200.0\n",
      "epoch :  5\n",
      "loss train : 232816232.0\n",
      "loss eval : 264866368.0\n",
      "epoch :  6\n",
      "loss train : 232373357.33333334\n",
      "loss eval : 264285424.0\n",
      "epoch :  7\n",
      "loss train : 231706601.33333334\n",
      "loss eval : 263450416.0\n",
      "epoch :  8\n",
      "loss train : 230789058.66666666\n",
      "loss eval : 262360344.0\n",
      "epoch :  9\n",
      "loss train : 229652272.0\n",
      "loss eval : 261097424.0\n"
     ]
    }
   ],
   "source": [
    "loss_values, loss_eval = train(itransformer, optimizer, train_loader, eval_loader, 10, device, writer)"
   ]
  },
  {
   "cell_type": "code",
   "execution_count": 149,
   "metadata": {},
   "outputs": [
    {
     "data": {
      "image/png": "[encoded data removed]",
      "text/plain": [
       "<Figure size 432x288 with 1 Axes>"
      ]
     },
     "metadata": {
      "needs_background": "light"
     },
     "output_type": "display_data"
    }
   ],
   "source": [
    "plt.figure()\n",
    "plt.plot(loss_values,label=\"Loss en train\")\n",
    "plt.plot(loss_eval,label=\"Loss en validation\")\n",
    "plt.legend()\n",
    "plt.show()"
   ]
  },
  {
   "cell_type": "code",
   "execution_count": 152,
   "metadata": {},
   "outputs": [],
   "source": [
    "def test(model, test_loader):\n",
    "    model.eval()\n",
    "    criterion = nn.MSELoss(reduction='mean')\n",
    "    loss_batch = []\n",
    "    with torch.no_grad():\n",
    "        for _, (data, target) in enumerate(test_loader):\n",
    "            data, target = data.float().to(device), target.float().to(device)\n",
    "            yhat = model(data)\n",
    "            loss = criterion(yhat, target)\n",
    "            loss_batch.append(loss.item())\n",
    "\n",
    "            plt.figure()\n",
    "            plt.plot(target[0][:][0],label=\"target\")\n",
    "            plt.legend()\n",
    "            plt.show()\n",
    "            plt.figure()\n",
    "            plt.plot(yhat[0][:][0],label=\"prediction\")\n",
    "            plt.legend()\n",
    "            plt.show()\n",
    "            break\n",
    "\n",
    "        \"\"\"\n",
    "        if write_tensorboard:\n",
    "\n",
    "            writer.add_scalar('Loss validation', np.mean(epoch_loss), epoch)\n",
    "        \n",
    "            for name, weight in model.named_parameters():\n",
    "                writer.add_histogram(name, weight, epoch)\n",
    "                writer.add_histogram(f'{name}.grad', weight.grad, epoch)\n",
    "\n",
    "            entropie = criterion(logits,target)\n",
    "            writer.add_histogram('Entropy validation', entropie, epoch)\n",
    "            \n",
    "            writer.add_scalar('Accuracy validation', np.mean(epoch_accuracy), epoch)\n",
    "        \"\"\"\n",
    "        print(loss_batch)\n",
    "        return np.mean(loss_batch)"
   ]
  },
  {
   "cell_type": "code",
   "execution_count": 153,
   "metadata": {},
   "outputs": [
    {
     "data": {
      "image/png": "[encoded data removed]",
      "text/plain": [
       "<Figure size 432x288 with 1 Axes>"
      ]
     },
     "metadata": {
      "needs_background": "light"
     },
     "output_type": "display_data"
    },
    {
     "data": {
      "image/png": "[encoded data removed]",
      "text/plain": [
       "<Figure size 432x288 with 1 Axes>"
      ]
     },
     "metadata": {
      "needs_background": "light"
     },
     "output_type": "display_data"
    },
    {
     "name": "stdout",
     "output_type": "stream",
     "text": [
      "[121220984.0]\n",
      "MSE :  121220984.0\n"
     ]
    }
   ],
   "source": [
    "loss_test = test(itransformer, test_loader )\n",
    "print(\"MSE : \", loss_test)"
   ]
  },
  {
   "cell_type": "code",
   "execution_count": null,
   "metadata": {},
   "outputs": [],
   "source": []
  },
  {
   "cell_type": "code",
   "execution_count": null,
   "metadata": {},
   "outputs": [],
   "source": []
  },
  {
   "cell_type": "code",
   "execution_count": null,
   "metadata": {},
   "outputs": [],
   "source": []
  }
 ],
 "metadata": {
  "kernelspec": {
   "display_name": "Python 3",
   "language": "python",
   "name": "python3"
  },
  "language_info": {
   "codemirror_mode": {
    "name": "ipython",
    "version": 3
   },
   "file_extension": ".py",
   "mimetype": "text/x-python",
   "name": "python",
   "nbconvert_exporter": "python",
   "pygments_lexer": "ipython3",
   "version": "3.10.12"
  }
 },
 "nbformat": 4,
 "nbformat_minor": 2
}
