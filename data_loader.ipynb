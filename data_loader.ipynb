{
 "cells": [
  {
   "cell_type": "markdown",
   "metadata": {},
   "source": [
    "# Dataloader ECL"
   ]
  },
  {
   "cell_type": "code",
   "execution_count": 78,
   "metadata": {},
   "outputs": [],
   "source": [
    "import torch\n",
    "import torch.nn as nn\n",
    "from torch.utils.data import Dataset, DataLoader\n",
    "import pandas as pd\n",
    "import numpy as np\n"
   ]
  },
  {
   "cell_type": "markdown",
   "metadata": {},
   "source": [
    "Le ECL dataset est un dataset sur la consommation d'electricité de 321 clients toutes les heures entre 2012 et 2014.   \n",
    "Les colonnes représentent les 321 clients et il y a 26 304 lignes. \n",
    " "
   ]
  },
  {
   "cell_type": "code",
   "execution_count": 109,
   "metadata": {},
   "outputs": [],
   "source": [
    "ecl_data = pd.read_csv('electricity.csv', header=None).to_numpy()\n",
    "\n",
    "# Diviser les données en ensembles de train, test et validation\n",
    "train_data = ecl_data[:18317]\n",
    "test_data = ecl_data[18317:18317+2633]\n",
    "val_data = ecl_data[18317+2633:]\n"
   ]
  },
  {
   "cell_type": "markdown",
   "metadata": {},
   "source": [
    "## DataLoader"
   ]
  },
  {
   "cell_type": "code",
   "execution_count": 110,
   "metadata": {},
   "outputs": [],
   "source": [
    "class MonDataLoader(Dataset):\n",
    "  def __init__(self, data, lookback_size, lookforward_size):\n",
    "    self.lookback_size = lookback_size\n",
    "    self.lookforward_size = lookforward_size\n",
    "    self.data = []\n",
    "    for i in range(0, 1 + len(data) - (self.lookback_size+ self.lookforward_size), self.lookback_size):\n",
    "      seq_x = data[i:i+self.lookback_size, :]\n",
    "      seq_y = data[i+self.lookback_size:i+self.lookback_size+self.lookforward_size, :]\n",
    "      self.data.append((seq_x, seq_y))\n",
    "\n",
    "  def __len__(self):\n",
    "    return len(self.data)\n",
    "\n",
    "  def __getitem__(self, idx):\n",
    "    seq_x, seq_y = self.data[idx]\n",
    "    return torch.tensor(seq_x), torch.tensor(seq_y)"
   ]
  },
  {
   "cell_type": "markdown",
   "metadata": {},
   "source": [
    "#### dataloader"
   ]
  },
  {
   "cell_type": "code",
   "execution_count": 111,
   "metadata": {},
   "outputs": [],
   "source": [
    "# Diviser les données en ensembles de train, test et validation\n",
    "train_data = ecl_data[:18317]\n",
    "test_data = ecl_data[18317:18317+2633]\n",
    "val_data = ecl_data[18317+2633:]"
   ]
  },
  {
   "cell_type": "code",
   "execution_count": 117,
   "metadata": {},
   "outputs": [],
   "source": [
    "batch_size = 32\n",
    "\n",
    "train_dataset = MonDataLoader(ecl_data[:18317], 96, 96)\n",
    "train_loader = DataLoader(train_dataset, batch_size=batch_size, shuffle=False)\n",
    "\n",
    "eval_dataset = MonDataLoader(ecl_data[18317+2633:], 96, 96)\n",
    "eval_loader = DataLoader(eval_dataset, batch_size=batch_size, shuffle=False)\n",
    "\n",
    "test_dataset = MonDataLoader(ecl_data[18317+2633:], 96, 96)\n",
    "test_loader = DataLoader(test_dataset, batch_size=batch_size, shuffle=False)\n"
   ]
  },
  {
   "cell_type": "code",
   "execution_count": 121,
   "metadata": {},
   "outputs": [
    {
     "name": "stdout",
     "output_type": "stream",
     "text": [
      "torch.Size([32, 96, 321])\n",
      "torch.Size([32, 96, 321])\n",
      "torch.Size([22, 96, 321])\n",
      "torch.Size([22, 96, 321])\n"
     ]
    }
   ],
   "source": [
    "for x,y in test_loader: \n",
    "    print(x.shape)\n",
    "    print(y.shape)\n"
   ]
  },
  {
   "cell_type": "code",
   "execution_count": null,
   "metadata": {},
   "outputs": [],
   "source": []
  }
 ],
 "metadata": {
  "kernelspec": {
   "display_name": "Python 3",
   "language": "python",
   "name": "python3"
  },
  "language_info": {
   "codemirror_mode": {
    "name": "ipython",
    "version": 3
   },
   "file_extension": ".py",
   "mimetype": "text/x-python",
   "name": "python",
   "nbconvert_exporter": "python",
   "pygments_lexer": "ipython3",
   "version": "3.10.12"
  }
 },
 "nbformat": 4,
 "nbformat_minor": 2
}
