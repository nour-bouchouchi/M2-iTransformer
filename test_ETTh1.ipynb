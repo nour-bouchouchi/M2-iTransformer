{
 "cells": [
  {
   "cell_type": "code",
   "execution_count": 1,
   "metadata": {},
   "outputs": [
    {
     "name": "stderr",
     "output_type": "stream",
     "text": [
      "2024-01-04 15:39:18.385060: I tensorflow/core/util/port.cc:110] oneDNN custom operations are on. You may see slightly different numerical results due to floating-point round-off errors from different computation orders. To turn them off, set the environment variable `TF_ENABLE_ONEDNN_OPTS=0`.\n",
      "2024-01-04 15:39:18.387927: I tensorflow/tsl/cuda/cudart_stub.cc:28] Could not find cuda drivers on your machine, GPU will not be used.\n",
      "2024-01-04 15:39:18.450777: I tensorflow/core/platform/cpu_feature_guard.cc:182] This TensorFlow binary is optimized to use available CPU instructions in performance-critical operations.\n",
      "To enable the following instructions: AVX2 AVX_VNNI FMA, in other operations, rebuild TensorFlow with the appropriate compiler flags.\n",
      "2024-01-04 15:39:19.989711: W tensorflow/compiler/tf2tensorrt/utils/py_utils.cc:38] TF-TRT Warning: Could not find TensorRT\n"
     ]
    }
   ],
   "source": [
    "import torch\n",
    "import torch.nn as nn\n",
    "from torch.utils.data import Dataset, DataLoader\n",
    "import pandas as pd\n",
    "import numpy as np\n",
    "from dataloader import *\n",
    "from train_eval_test import *\n",
    "from torch.utils.tensorboard import SummaryWriter\n",
    "import matplotlib.pyplot as plt"
   ]
  },
  {
   "cell_type": "markdown",
   "metadata": {},
   "source": [
    "## Load data"
   ]
  },
  {
   "cell_type": "code",
   "execution_count": 2,
   "metadata": {},
   "outputs": [],
   "source": [
    "ETTh1_data = pd.read_csv('data/ETTh1.csv', header=None).to_numpy()"
   ]
  },
  {
   "cell_type": "code",
   "execution_count": 3,
   "metadata": {},
   "outputs": [
    {
     "data": {
      "text/plain": [
       "(17420, 7)"
      ]
     },
     "execution_count": 3,
     "metadata": {},
     "output_type": "execute_result"
    }
   ],
   "source": [
    "ETTh1_data.shape"
   ]
  },
  {
   "cell_type": "code",
   "execution_count": 4,
   "metadata": {},
   "outputs": [],
   "source": [
    "batch_size = 32\n",
    "n_train = 8545\n",
    "n_eval = 2881\n",
    "n_test = 2881\n",
    "train_loader, eval_loader, test_loader = get_loaders(ETTh1_data, batch_size, n_train, n_eval, n_test, T=96, S=96)"
   ]
  },
  {
   "cell_type": "markdown",
   "metadata": {},
   "source": [
    "## Modèle"
   ]
  },
  {
   "cell_type": "code",
   "execution_count": 5,
   "metadata": {},
   "outputs": [],
   "source": [
    "class Embedding_inverted(nn.Module):\n",
    "    def __init__(self, T, D):\n",
    "        super(Embedding_inverted, self).__init__()\n",
    "        self.emb = nn.Linear(T, D)\n",
    "        self.dropout = nn.Dropout(0.1)\n",
    "    \n",
    "    def forward(self, x):\n",
    "        x = x.permute(0,2,1)\n",
    "        x_emb = self.emb(x)\n",
    "        return self.dropout(x_emb)\n",
    "\n",
    "class FeedForward(nn.Module):\n",
    "    def __init__(self, D):\n",
    "        super(FeedForward, self).__init__()\n",
    "        self.feed_forward = nn.Sequential(\n",
    "          nn.Linear(D, D),\n",
    "          nn.ReLU(),\n",
    "          nn.Dropout(0.1),\n",
    "          nn.Linear(D, D), \n",
    "        )\n",
    "\n",
    "    def forward(self, x):\n",
    "        #x = x.permute(0,2,1)\n",
    "        x = self.feed_forward(x)\n",
    "        #x = x.permute(0,2,1)\n",
    "        return x\n",
    "    \n",
    "class Attention(nn.Module):\n",
    "    def __init__(self, D, proj_dim, nb_head=8):\n",
    "        super(Attention, self).__init__()\n",
    "        self.query_projection = nn.Linear(D, proj_dim)\n",
    "        self.key_projection = nn.Linear(D, proj_dim)\n",
    "        self.value_projection = nn.Linear(D, proj_dim)\n",
    "        self.out_projection = nn.Linear(proj_dim, D)\n",
    "        self.H = nb_head\n",
    "\n",
    "    def forward(self, queries, keys, values):\n",
    "        B, L, _ = queries.shape\n",
    "        _, S, _ = keys.shape\n",
    "        H = self.H\n",
    "\n",
    "        queries = self.query_projection(queries).view(B, L, H, -1)\n",
    "        keys = self.key_projection(keys).view(B, S, H, -1)\n",
    "        values = self.value_projection(values).view(B, S, H, -1)\n",
    "\n",
    "        B, L, H, E = queries.shape\n",
    "        _, S, _, D = values.shape\n",
    "        scale = 1. / torch.sqrt(torch.tensor(E))\n",
    "\n",
    "        scores = torch.einsum(\"blhe,bshe->bhls\", queries, keys)\n",
    "        A = torch.softmax(scale * scores, dim=-1)\n",
    "        V = torch.einsum(\"bhls,bshd->blhd\", A, values)\n",
    "\n",
    "        out = V.reshape(B,L,-1)\n",
    "\n",
    "        return self.out_projection(out)\n",
    "        \n",
    "\n",
    "class TrmBlock(nn.Module):\n",
    "    def __init__(self, N, D, proj_dim):\n",
    "      super(TrmBlock, self).__init__()\n",
    "\n",
    "      self.multivariate_attention= Attention(D, proj_dim)\n",
    "      self.layer_norm1 = nn.LayerNorm(D)\n",
    "      self.feed_forward = FeedForward(D)\n",
    "      self.layer_norm2 = nn.LayerNorm(D)\n",
    "\n",
    "    def forward(self, x):\n",
    "      att = self.multivariate_attention(x,x,x)\n",
    "      x = self.layer_norm1(x + att)\n",
    "      #print(\"x_norm  : \", x.shape)\n",
    "      #print(\"permute : \", xT.shape)\n",
    "      x_forward = self.feed_forward(x)\n",
    "      x= self.layer_norm2(x + x_forward)\n",
    "      return x\n",
    "\n",
    "\n",
    "class iTransformer(nn.Module):\n",
    "    def __init__(self, N, T, D, S, proj_dim, num_blocks):\n",
    "      super(iTransformer, self).__init__()\n",
    "\n",
    "      self.embedding = Embedding_inverted(T, D)\n",
    "      self.trmblock = nn.ModuleList([TrmBlock(N, D, proj_dim) for _ in range(num_blocks)])\n",
    "      self.projection = nn.Linear(D, S, bias=True)\n",
    "\n",
    "\n",
    "    def forward(self, x):\n",
    "      #print(\"x : \",x.shape)\n",
    "      x = self.embedding(x)\n",
    "      #print('emb : ',x.shape)\n",
    "      for block in self.trmblock:\n",
    "            x = block(x)\n",
    "      #print('trmblock : ',x.shape)\n",
    "      y = self.projection(x)\n",
    "      #print('proj : ', y.shape)\n",
    "      y=y.permute(0,2,1)\n",
    "      #print('final : ', y.shape)\n",
    "      return y"
   ]
  },
  {
   "cell_type": "markdown",
   "metadata": {},
   "source": [
    "## Train"
   ]
  },
  {
   "cell_type": "code",
   "execution_count": 6,
   "metadata": {},
   "outputs": [
    {
     "name": "stdout",
     "output_type": "stream",
     "text": [
      "cpu\n"
     ]
    }
   ],
   "source": [
    "device = torch.device(\"cuda\" if torch.cuda.is_available() else \"cpu\")\n",
    "print(device)\n",
    "#writer = SummaryWriter()"
   ]
  },
  {
   "cell_type": "code",
   "execution_count": 7,
   "metadata": {},
   "outputs": [],
   "source": [
    "N = 7 #nb variables\n",
    "T = 96 #input length (lookback window)\n",
    "D = 512 # 256 ou 512\n",
    "S = 96 # 96 ou 192, 336, 720\n",
    "proj_dim = 128\n",
    "#hidden_dim = 176 #dimension latente dans le feed forward du transformer \n",
    "num_blocks = 4 #2 ou 3 ou 4 (nombre de block de transformer)\n",
    "\n",
    "itransformer = iTransformer(N, T, D, S, proj_dim, num_blocks)\n",
    "optimizer = torch.optim.Adam(itransformer.parameters(), lr=1e-3) #10−3, 5 × 10−4, 10−4 \n",
    "\n"
   ]
  },
  {
   "cell_type": "code",
   "execution_count": 8,
   "metadata": {},
   "outputs": [
    {
     "name": "stdout",
     "output_type": "stream",
     "text": [
      "---- epoch :  0\n",
      "loss train : 0.38582666866651927\n",
      "loss eval : 0.4666390252463958\n",
      "---- epoch :  1\n",
      "loss train : 0.32945859523219917\n",
      "loss eval : 0.4502683302935432\n",
      "---- epoch :  2\n",
      "loss train : 0.32307720286700564\n",
      "loss eval : 0.4471016412272173\n",
      "---- epoch :  3\n",
      "loss train : 0.31856409130433133\n",
      "loss eval : 0.4831898571813808\n",
      "---- epoch :  4\n",
      "loss train : 0.3134737567023467\n",
      "loss eval : 0.48617999080349417\n",
      "---- epoch :  5\n",
      "loss train : 0.3243608976934702\n",
      "loss eval : 0.4504988026969573\n",
      "---- epoch :  6\n",
      "loss train : 0.336303838962362\n",
      "loss eval : 0.5375826660324545\n",
      "---- epoch :  7\n",
      "loss train : 0.3527576144187505\n",
      "loss eval : 0.5021732067360597\n",
      "---- epoch :  8\n",
      "loss train : 0.3450608470740209\n",
      "loss eval : 0.4548151163493886\n",
      "---- epoch :  9\n",
      "loss train : 0.3507352295040174\n",
      "loss eval : 0.49446826331755694\n"
     ]
    }
   ],
   "source": [
    "loss_values, loss_eval = train(itransformer, optimizer, train_loader, eval_loader, 10, device)"
   ]
  },
  {
   "cell_type": "code",
   "execution_count": 9,
   "metadata": {},
   "outputs": [
    {
     "data": {
      "image/png": "[encoded data removed]",
      "text/plain": [
       "<Figure size 432x288 with 1 Axes>"
      ]
     },
     "metadata": {
      "needs_background": "light"
     },
     "output_type": "display_data"
    }
   ],
   "source": [
    "plt.figure()\n",
    "plt.plot(loss_values,label=\"Loss en train\")\n",
    "plt.plot(loss_eval,label=\"Loss en validation\")\n",
    "plt.legend()\n",
    "plt.show()"
   ]
  },
  {
   "cell_type": "code",
   "execution_count": 10,
   "metadata": {},
   "outputs": [
    {
     "data": {
      "image/png": "[encoded data removed]",
      "text/plain": [
       "<Figure size 432x288 with 1 Axes>"
      ]
     },
     "metadata": {
      "needs_background": "light"
     },
     "output_type": "display_data"
    }
   ],
   "source": [
    "plt.figure()\n",
    "plt.plot(loss_values,label=\"Loss en train\")\n",
    "plt.legend()\n",
    "plt.show()"
   ]
  },
  {
   "cell_type": "code",
   "execution_count": 11,
   "metadata": {},
   "outputs": [
    {
     "data": {
      "image/png": "[encoded data removed]",
      "text/plain": [
       "<Figure size 432x288 with 1 Axes>"
      ]
     },
     "metadata": {
      "needs_background": "light"
     },
     "output_type": "display_data"
    }
   ],
   "source": [
    "plt.figure()\n",
    "plt.plot(loss_eval,label=\"Loss en validation\")\n",
    "plt.legend()\n",
    "plt.show()"
   ]
  },
  {
   "cell_type": "markdown",
   "metadata": {},
   "source": [
    "## Test"
   ]
  },
  {
   "cell_type": "code",
   "execution_count": 12,
   "metadata": {},
   "outputs": [
    {
     "name": "stdout",
     "output_type": "stream",
     "text": [
      "MSE :  0.7813913702964783\n"
     ]
    }
   ],
   "source": [
    "loss_test, target, yhat = test(itransformer, test_loader, device)\n",
    "\n",
    "print(\"MSE : \", loss_test)"
   ]
  },
  {
   "cell_type": "code",
   "execution_count": 13,
   "metadata": {},
   "outputs": [
    {
     "data": {
      "image/png": "[encoded data removed]",
      "text/plain": [
       "<Figure size 432x288 with 1 Axes>"
      ]
     },
     "metadata": {
      "needs_background": "light"
     },
     "output_type": "display_data"
    }
   ],
   "source": [
    "i = 0\n",
    "plt.figure()\n",
    "plt.plot(target[0][:][i].to(\"cpu\"),label=\"target\")\n",
    "plt.plot(yhat[0][:][i].to(\"cpu\"),label=\"prediction\")\n",
    "plt.legend()\n",
    "plt.show()\n"
   ]
  },
  {
   "cell_type": "code",
   "execution_count": null,
   "metadata": {},
   "outputs": [],
   "source": [
    "plt.figure()\n",
    "plt.plot(target[0][:][i][:100].to(\"cpu\"),label=\"target\")\n",
    "plt.plot(yhat[0][:][i][:100].to(\"cpu\"),label=\"prediction\")\n",
    "plt.legend()\n",
    "plt.show()"
   ]
  },
  {
   "cell_type": "code",
   "execution_count": null,
   "metadata": {},
   "outputs": [],
   "source": []
  },
  {
   "cell_type": "code",
   "execution_count": null,
   "metadata": {},
   "outputs": [],
   "source": []
  }
 ],
 "metadata": {
  "kernelspec": {
   "display_name": "Python 3",
   "language": "python",
   "name": "python3"
  },
  "language_info": {
   "codemirror_mode": {
    "name": "ipython",
    "version": 3
   },
   "file_extension": ".py",
   "mimetype": "text/x-python",
   "name": "python",
   "nbconvert_exporter": "python",
   "pygments_lexer": "ipython3",
   "version": "3.10.12"
  }
 },
 "nbformat": 4,
 "nbformat_minor": 2
}
