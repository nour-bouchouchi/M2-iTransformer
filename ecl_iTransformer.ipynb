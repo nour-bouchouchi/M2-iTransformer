{
 "cells": [
  {
   "cell_type": "markdown",
   "metadata": {},
   "source": [
    "# Dataloader ECL"
   ]
  },
  {
   "cell_type": "code",
   "execution_count": 1,
   "metadata": {},
   "outputs": [],
   "source": [
    "import torch\n",
    "import torch.nn as nn\n",
    "import torch.optim as optim\n",
    "import torch.nn.functional as F\n",
    "from torch.utils.data import DataLoader, Dataset\n",
    "import torchvision.datasets as datasets\n",
    "import torchvision.transforms as transforms\n",
    "import pandas as pd\n",
    "import numpy as np\n"
   ]
  },
  {
   "cell_type": "markdown",
   "metadata": {},
   "source": [
    "Le ECL dataset est un dataset sur la consommation d'electricité de 321 clients toutes les heures entre 2012 et 2014.   \n",
    "Les colonnes représentent les 321 clients et il y a 26 304 lignes. \n",
    " "
   ]
  },
  {
   "cell_type": "code",
   "execution_count": 2,
   "metadata": {},
   "outputs": [],
   "source": [
    "ecl_data = pd.read_csv('electricity.csv', header=None).to_numpy(dtype=np.float32)\n",
    "ecl_data = torch.tensor(ecl_data)\n",
    "mean = ecl_data.mean(dim=0)\n",
    "std  = ecl_data.std(dim=0)\n",
    "ecl_data = (ecl_data - mean) / std\n",
    "\n",
    "# Diviser les données en ensembles de train, test et validation\n",
    "train_data = ecl_data[:18317]\n",
    "test_data = ecl_data[18317:18317+2633]\n",
    "val_data = ecl_data[18317+2633:]\n"
   ]
  },
  {
   "cell_type": "markdown",
   "metadata": {},
   "source": [
    "## DataLoader"
   ]
  },
  {
   "cell_type": "code",
   "execution_count": 4,
   "metadata": {},
   "outputs": [],
   "source": [
    "class MonDataLoader(Dataset):\n",
    "  def __init__(self, data, lookback_size, lookforward_size):\n",
    "    self.lookback_size = lookback_size\n",
    "    self.lookforward_size = lookforward_size\n",
    "    self.data = []\n",
    "    for i in range(0, 1 + len(data) - (self.lookback_size+ self.lookforward_size), self.lookback_size):\n",
    "      seq_x = data[i:i+self.lookback_size, :]\n",
    "      seq_y = data[i+self.lookback_size:i+self.lookback_size+self.lookforward_size, :]\n",
    "      self.data.append((seq_x, seq_y))\n",
    "\n",
    "  def __len__(self):\n",
    "    return len(self.data) - 1\n",
    "\n",
    "  def __getitem__(self, idx):\n",
    "    seq_x, seq_y = self.data[idx]\n",
    "    return torch.tensor(seq_x), torch.tensor(seq_y)"
   ]
  },
  {
   "cell_type": "markdown",
   "metadata": {},
   "source": [
    "#### dataloader"
   ]
  },
  {
   "cell_type": "code",
   "execution_count": 5,
   "metadata": {},
   "outputs": [],
   "source": [
    "# Diviser les données en ensembles de train, test et validation\n",
    "train_data = ecl_data[:18317]\n",
    "test_data = ecl_data[18317:18317+2633]\n",
    "val_data = ecl_data[18317+2633:]"
   ]
  },
  {
   "cell_type": "code",
   "execution_count": 17,
   "metadata": {},
   "outputs": [],
   "source": [
    "batch_size = 32\n",
    "input_len = 96\n",
    "pred_len = 48\n",
    "\n",
    "train_dataset = MonDataLoader(ecl_data[:18317], input_len, pred_len)\n",
    "train_loader = DataLoader(train_dataset, batch_size=batch_size, shuffle=True)\n",
    "\n",
    "eval_dataset = MonDataLoader(ecl_data[18317+2633:], input_len, pred_len)\n",
    "eval_loader = DataLoader(eval_dataset, batch_size=batch_size, shuffle=True)\n",
    "\n",
    "# test_dataset = MonDataLoader(ecl_data[18317+2633:], input_len, pred_len)\n",
    "# test_loader = DataLoader(test_dataset, batch_size=batch_size, shuffle=False)\n"
   ]
  },
  {
   "cell_type": "markdown",
   "metadata": {},
   "source": [
    "## Transformer"
   ]
  },
  {
   "cell_type": "code",
   "execution_count": 7,
   "metadata": {},
   "outputs": [],
   "source": [
    "class SAttention(nn.Module):\n",
    "  def __init__(self, k, heads, mask=False):\n",
    "    \"\"\"\n",
    "\n",
    "    :param k: taille de l'embeding\n",
    "    :param heads: nombre de heads\n",
    "    :param mask: attention sur toute la seq(False) ou les elts precs seulement\n",
    "    \"\"\"\n",
    "    \n",
    "    super(SAttention, self).__init__()\n",
    "    \n",
    "    assert k % heads == 0, f'heads ({heads}) doit etre un diviseur de k ({k})'\n",
    "\n",
    "    self.k = k\n",
    "    self.heads = heads\n",
    "    self.mask = mask\n",
    "    \n",
    "    self.tokeys = nn.Linear(k, k, bias=False)\n",
    "    self.toqueries = nn.Linear(k, k, bias=False)\n",
    "    self.tovalues = nn.Linear(k, k, bias=False)\n",
    "\n",
    "    self.unifyHeads = nn.Linear(k,k)\n",
    "  \n",
    "  def forward(self, x):\n",
    "    \n",
    "    b, t, k = x.size()\n",
    "    h = self.heads\n",
    "    assert k == self.k, f'Taille des embeddings ({k}) doit correspond a celui du init ({self.k})'\n",
    "\n",
    "    keys = self.tokeys(x)\n",
    "    queries = self.toqueries(x)\n",
    "    values = self.tovalues(x)\n",
    "    \n",
    "    # Taille de chaque head\n",
    "    s = k // h\n",
    "    \n",
    "    # batch x longueur seq x nb heads x taille head\n",
    "    keys = keys.view(b, t, h, s)\n",
    "    queries = queries.view(b, t, h, s)\n",
    "    values = values.view(b, t, h, s)\n",
    "    \n",
    "    # batch et head cote à cote\n",
    "    keys = keys.transpose(1, 2).contiguous().view(b * h, t, s)\n",
    "    queries = queries.transpose(1, 2).contiguous().view(b * h, t, s)\n",
    "    values = values.transpose(1, 2).contiguous().view(b * h, t, s)\n",
    "\n",
    "    dot = torch.bmm(queries, keys.transpose(1, 2)) # -> (b*h, t, t)\n",
    "    dot = dot / (k ** (1/2))\n",
    "    \n",
    "    if self.mask:\n",
    "      indices = torch.triu_indices(t, t, offset=1)\n",
    "      dot[:, indices[0], indices[1]] = float('-inf')\n",
    "\n",
    "    dot = F.softmax(dot, dim=2)\n",
    "    \n",
    "    out = torch.bmm(dot, values).view(b, h, t, s)\n",
    "\n",
    "    # rearrangement\n",
    "    out = out.transpose(1, 2).contiguous().view(b, t, h*s)\n",
    "\n",
    "    # unification avec MLP\n",
    "    out = self.unifyHeads(out) # -> (b, t, k)\n",
    "\n",
    "    return out\n"
   ]
  },
  {
   "cell_type": "code",
   "execution_count": null,
   "metadata": {},
   "outputs": [],
   "source": [
    "\"\"\"\n",
    "def forward_einsum(self, x):\n",
    "    b, t, e = x.size()\n",
    "    h = self.heads\n",
    "\n",
    "    keys    = self.tokeys(x).view(b, t, h, e)\n",
    "    queries = self.toqueries(x).view(b, t, h, e)\n",
    "    values  = self.tovalues(x).view(b, t, h, e)\n",
    "\n",
    "    dot = torch.einsum('bthe,bihe->bhti', queries, keys) / math.sqrt(e)\n",
    "    dot = F.softmax(dot, dim=-1)\n",
    "\n",
    "    out = torch.einsum('bhtd,bdhe->bthe', dot, values)\n",
    "\n",
    "    # we can move reshape of weights to init; I left it here just to compare with the original implementation\n",
    "    out = torch.einsum('bthe,khe->btk', out, self.unifyheads.weight.view(e,h,e)) \n",
    "    return out + self.unifyheads.bias\n",
    "\"\"\""
   ]
  },
  {
   "cell_type": "code",
   "execution_count": 8,
   "metadata": {},
   "outputs": [],
   "source": [
    "class TBlock(nn.Module):\n",
    "  def __init__(self, k, heads):\n",
    "    super(TBlock, self).__init__()\n",
    "    \n",
    "    self.attention = SAttention(k, heads)\n",
    "    self.norm1 = nn.LayerNorm(k)\n",
    "    self.norm2 = nn.LayerNorm(k)\n",
    "\n",
    "    self.feedforward = nn.Sequential(\n",
    "      nn.Linear(k, 4*k),\n",
    "      nn.ReLU(),\n",
    "      nn.Linear(4*k, k)\n",
    "    )\n",
    "  \n",
    "  def forward(self, x):\n",
    "    attention = self.attention(x)\n",
    "    x = x + attention\n",
    "    x = self.norm1(x)\n",
    "    \n",
    "    feedforward = self.feedforward(x)\n",
    "    x = x + feedforward\n",
    "    out = self.norm2(x)\n",
    "\n",
    "    return out"
   ]
  },
  {
   "cell_type": "code",
   "execution_count": 9,
   "metadata": {},
   "outputs": [],
   "source": [
    "class iTransformer(nn.Module):\n",
    "  def __init__(self, input_len, pred_len, N, D, heads=4, L=6, name=None):\n",
    "    super(iTransformer, self).__init__()\n",
    "    \n",
    "    self.T = input_len  # lookback input size\n",
    "    self.S = pred_len   # lookforward size, prediction size\n",
    "    self.N = N          # nb series multivariees\n",
    "    self.D = D          # dim embeddings\n",
    "    self.heads = heads  # nb attention heads\n",
    "    self.L = L          # nb TBlocks\n",
    "    self.name = name\n",
    "    \n",
    "    self.toEmbs = nn.Sequential(\n",
    "      nn.Linear(self.T, 4 * self.T),\n",
    "      nn.ReLU(),\n",
    "      nn.Linear(4 * self.T, self.D)\n",
    "    ) # N x T -> N x D\n",
    "    # print(f'embs params \\n{self.toEmbs.parameters}')\n",
    "\n",
    "    tblocks = [TBlock(k=self.D, heads=heads) for _ in range(L)] # heads diviseur de D\n",
    "    self.tblocks = nn.Sequential(*tblocks) # N x D -> N x D\n",
    "    \n",
    "    # projection\n",
    "    self.projection = nn.Sequential(\n",
    "      nn.Linear(self.D, 4 * self.D),\n",
    "      nn.ReLU(),\n",
    "      nn.Linear(4 * self.D, 8 * self.D),\n",
    "      nn.ReLU(),\n",
    "      nn.Linear(8 * self.D, 16 * self.D),\n",
    "      nn.ReLU(),\n",
    "      nn.Linear(16 * self.D, self.S)\n",
    "    ) # N x D -> N x S (transpose) -> S x N\n",
    "    \n",
    "    # print('Constructeur de iTransformer')\n",
    "    # print(f'lb {self.T} lf {self.S} mvs {N}')\n",
    "  \n",
    "  def forward(self, x):\n",
    "    \"\"\"\n",
    "\n",
    "    Args:\n",
    "      x (b, lookbacksize, N): entree batch de sequences multi variees\n",
    "    \"\"\"\n",
    "    # print('Forward iTransformer')\n",
    "    # print(f'size batch avant transpose {x.size()}')\n",
    "    x = x.transpose(1, 2).contiguous()  # inverted transformer (b, T, N) -> (b, N, T)\n",
    "    b, N, T = x.size()\n",
    "    # print(f'size batch après transpose {x.size()}')\n",
    "\n",
    "    assert T == self.T, f'Taille de la sequence ({T}) doit correspondre a la lookback input size({self.T})'\n",
    "    assert N == self.N, f'Nombre de mvs ({N}) doit correspondre à N({self.N})'\n",
    "    \n",
    "\n",
    "    H0 = self.toEmbs(x)   # (b, N, T) -> (b, N, D)\n",
    "    # print(f'H0 embed size {H0.size()}')\n",
    "\n",
    "    HL = self.tblocks(H0) # (b, N, D) -> (b, N, D)\n",
    "    # print(f'HL embed size {HL.size()}')\n",
    "\n",
    "    # prediction\n",
    "    out = self.projection(HL)          # (b, N, D) -> (b, N, S)\n",
    "    # print(f'projection size {out.size()} -- b {b} N {N} D {self.D} S {self.S}')\n",
    "    out = out.transpose(1, 2).contiguous() # (b, N, S) -> (b, S, N)\n",
    "    # print(f'transpose projection size {out.size()} -- b {b} N {N} D {self.D} S {self.S}')\n",
    "    \n",
    "    return out\n",
    "    "
   ]
  },
  {
   "cell_type": "markdown",
   "metadata": {},
   "source": [
    "## Test Transformer\n"
   ]
  },
  {
   "cell_type": "code",
   "execution_count": 18,
   "metadata": {},
   "outputs": [],
   "source": [
    "lr = 3e-4\n",
    "num_epochs = 10\n",
    "\n",
    "ecl_iTransformer = iTransformer(input_len=input_len, pred_len=pred_len, N=321, D=256, heads=4, L=3, name='ECL iTransformer')\n",
    "\n",
    "criterion = nn.MSELoss()\n",
    "optimizer = optim.Adam(ecl_iTransformer.parameters(), lr=lr)\n",
    "\n",
    "tloss, eloss = [], []"
   ]
  },
  {
   "cell_type": "code",
   "execution_count": 19,
   "metadata": {},
   "outputs": [
    {
     "name": "stderr",
     "output_type": "stream",
     "text": [
      "/var/folders/x7/bmqxr1zd3lxd_kcxxw9physr0000gn/T/ipykernel_5625/577648859.py:16: UserWarning: To copy construct from a tensor, it is recommended to use sourceTensor.clone().detach() or sourceTensor.clone().detach().requires_grad_(True), rather than torch.tensor(sourceTensor).\n",
      "  return torch.tensor(seq_x), torch.tensor(seq_y)\n"
     ]
    },
    {
     "name": "stdout",
     "output_type": "stream",
     "text": [
      "Train epoch [   1/  10] \\ Loss : 0.9861\n",
      "Eval epoch [   1/  10] \\ Loss : 0.54796\n",
      "Train epoch [   2/  10] \\ Loss : 0.4521\n",
      "Eval epoch [   2/  10] \\ Loss : 0.40651\n",
      "Train epoch [   3/  10] \\ Loss : 0.2916\n",
      "Eval epoch [   3/  10] \\ Loss : 0.38466\n",
      "Train epoch [   4/  10] \\ Loss : 0.2835\n",
      "      batch [   2/   6] \\ Loss : 0.2701\r"
     ]
    }
   ],
   "source": [
    "\n",
    "\n",
    "for epoch in range(num_epochs):\n",
    "  lep = []\n",
    "  ecl_iTransformer.train()\n",
    "  for batch_idx, (seq_x, seq_y) in enumerate(train_loader):\n",
    "    seq_pred = ecl_iTransformer(seq_x)\n",
    "    \n",
    "    loss = criterion(seq_pred, seq_y)\n",
    "    \n",
    "    ecl_iTransformer.zero_grad()\n",
    "    loss.backward()\n",
    "    optimizer.step()\n",
    "\n",
    "    # save loss\n",
    "    lep.append(loss.detach().numpy())\n",
    "    \n",
    "    # Print\n",
    "    if batch_idx == 0:\n",
    "      print(\n",
    "        f\"Train epoch [{(epoch+1):4d}/{num_epochs:4d}] \\ \"\n",
    "        f\"Loss : {loss:.4f}\"\n",
    "      )\n",
    "    \n",
    "    print(\n",
    "      f\"      batch [{(batch_idx+1):4d}/{len(train_loader):4d}] \\ \"\n",
    "      f\"Loss : {loss:.4f}\", end=\"\\r\"\n",
    "    )\n",
    "  tloss.append(np.mean(lep))\n",
    "  \n",
    "  ecl_iTransformer.eval()\n",
    "  lep = []\n",
    "  for batch_idx, (seq_x, seq_y) in enumerate(eval_loader):\n",
    "    seq_pred = ecl_iTransformer(seq_x)\n",
    "    loss = criterion(seq_pred, seq_y)\n",
    "    lep.append(loss.detach().numpy())\n",
    "    if batch_idx == 0:\n",
    "      print(\n",
    "        f\"Eval epoch [{(epoch+1):4d}/{num_epochs:4d}] \\ \"\n",
    "        f\"Loss : {loss:.4f}\"\n",
    "      )\n",
    "    \n",
    "    print(\n",
    "      f\"     batch [{(batch_idx+1):4d}/{len(train_loader):4d}] \\ \"\n",
    "      f\"Loss : {loss:.4f}\", end=\"\\r\"\n",
    "    )\n",
    "  eloss.append(np.mean(lep))\n",
    "  "
   ]
  },
  {
   "cell_type": "markdown",
   "metadata": {},
   "source": [
    "ssh -X 28717871@ssh.ufr-info-p6.jussieu.fr\n",
    "ssh -X 28717871@ppti-14-502-04.ufr-info-p6.jussieu.fr\n",
    "\n",
    "ssh -L8888:localhost:8888 -L 6006:localhost:6006 ppti-14-302-04"
   ]
  },
  {
   "cell_type": "code",
   "execution_count": 14,
   "metadata": {},
   "outputs": [],
   "source": [
    "torch.save(ecl_iTransformer.state_dict(), './models/ecl_iTransformer')"
   ]
  },
  {
   "cell_type": "code",
   "execution_count": 15,
   "metadata": {},
   "outputs": [
    {
     "name": "stdout",
     "output_type": "stream",
     "text": [
      "[0.6828583, 0.38721597, 0.31905684, 0.28023013, 0.2590569, 0.25099355, 0.23270643, 0.22260992, 0.21546553, 0.20761351] \n",
      " [0.5533146, 0.4135002, 0.3774866, 0.3359413, 0.353181, 0.3475839, 0.30406594, 0.28791642, 0.27439654, 0.27211487]\n"
     ]
    },
    {
     "data": {
      "image/png": "[encoded data removed]",
      "text/plain": [
       "<Figure size 640x480 with 1 Axes>"
      ]
     },
     "metadata": {},
     "output_type": "display_data"
    }
   ],
   "source": [
    "import matplotlib.pyplot as plt\n",
    "\n",
    "print(tloss, '\\n',eloss)\n",
    "plt.figure()\n",
    "plt.plot(tloss,label=\"Loss en train\")\n",
    "plt.plot(eloss,label=\"Loss en eval\")\n",
    "plt.legend()\n",
    "plt.show()"
   ]
  },
  {
   "cell_type": "code",
   "execution_count": null,
   "metadata": {},
   "outputs": [],
   "source": []
  }
 ],
 "metadata": {
  "kernelspec": {
   "display_name": "Python 3",
   "language": "python",
   "name": "python3"
  },
  "language_info": {
   "codemirror_mode": {
    "name": "ipython",
    "version": 3
   },
   "file_extension": ".py",
   "mimetype": "text/x-python",
   "name": "python",
   "nbconvert_exporter": "python",
   "pygments_lexer": "ipython3",
   "version": "3.11.6"
  }
 },
 "nbformat": 4,
 "nbformat_minor": 2
}
