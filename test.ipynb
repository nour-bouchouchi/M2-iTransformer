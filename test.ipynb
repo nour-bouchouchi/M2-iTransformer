{
 "cells": [
  {
   "cell_type": "code",
   "execution_count": 1,
   "metadata": {},
   "outputs": [
    {
     "name": "stderr",
     "output_type": "stream",
     "text": [
      "2024-01-20 12:34:52.550917: I tensorflow/core/util/port.cc:110] oneDNN custom operations are on. You may see slightly different numerical results due to floating-point round-off errors from different computation orders. To turn them off, set the environment variable `TF_ENABLE_ONEDNN_OPTS=0`.\n",
      "2024-01-20 12:34:52.551979: I tensorflow/tsl/cuda/cudart_stub.cc:28] Could not find cuda drivers on your machine, GPU will not be used.\n",
      "2024-01-20 12:34:52.575389: I tensorflow/core/platform/cpu_feature_guard.cc:182] This TensorFlow binary is optimized to use available CPU instructions in performance-critical operations.\n",
      "To enable the following instructions: AVX2 AVX_VNNI FMA, in other operations, rebuild TensorFlow with the appropriate compiler flags.\n",
      "2024-01-20 12:34:52.966146: W tensorflow/compiler/tf2tensorrt/utils/py_utils.cc:38] TF-TRT Warning: Could not find TensorRT\n"
     ]
    }
   ],
   "source": [
    "from dataloader import *\n",
    "from model import *\n",
    "from train_eval_test import *\n",
    "from torch.utils.tensorboard import SummaryWriter\n",
    "import matplotlib.pyplot as plt\n",
    "import pandas as pd\n",
    "import csv\n",
    "import os.path\n",
    "from torch.utils.data import Subset, DataLoader, Dataset\n",
    "from datetime import datetime \n",
    "\n"
   ]
  },
  {
   "cell_type": "code",
   "execution_count": 6,
   "metadata": {},
   "outputs": [],
   "source": [
    "path = \"resultats/ablation/weather_ablation.csv\"\n",
    "file_exists = os.path.isfile(path)\n",
    "\n",
    "with open(path, 'a' if file_exists else 'w', newline='') as fichier_sortie:\n",
    "    res = pd.read_csv(path)\n",
    "    mse = list(res.iloc[-2, 1::2][:-2])\n",
    "    mae = list(res.iloc[-2, 2::2][:-2])"
   ]
  },
  {
   "cell_type": "code",
   "execution_count": 7,
   "metadata": {},
   "outputs": [
    {
     "data": {
      "text/html": [
       "<div>\n",
       "<style scoped>\n",
       "    .dataframe tbody tr th:only-of-type {\n",
       "        vertical-align: middle;\n",
       "    }\n",
       "\n",
       "    .dataframe tbody tr th {\n",
       "        vertical-align: top;\n",
       "    }\n",
       "\n",
       "    .dataframe thead th {\n",
       "        text-align: right;\n",
       "    }\n",
       "</style>\n",
       "<table border=\"1\" class=\"dataframe\">\n",
       "  <thead>\n",
       "    <tr style=\"text-align: right;\">\n",
       "      <th></th>\n",
       "      <th>Model</th>\n",
       "      <th>Run 1 (MSE)</th>\n",
       "      <th>Run 1 (MAE)</th>\n",
       "      <th>Run 2 (MSE)</th>\n",
       "      <th>Run 2 (MAE)</th>\n",
       "      <th>Run 3 (MSE)</th>\n",
       "      <th>Run 3 (MAE)</th>\n",
       "      <th>MSE Moyenne</th>\n",
       "      <th>MSE Variance</th>\n",
       "      <th>MAE Moyenne</th>\n",
       "      <th>MAE Variance</th>\n",
       "    </tr>\n",
       "  </thead>\n",
       "  <tbody>\n",
       "    <tr>\n",
       "      <th>0</th>\n",
       "      <td>inverted</td>\n",
       "      <td>0.193265</td>\n",
       "      <td>0.242895</td>\n",
       "      <td>0.178333</td>\n",
       "      <td>0.221451</td>\n",
       "      <td>0.178728</td>\n",
       "      <td>0.22004</td>\n",
       "      <td>0.183442</td>\n",
       "      <td>0.000109</td>\n",
       "      <td>0.183442</td>\n",
       "      <td>0.000109</td>\n",
       "    </tr>\n",
       "    <tr>\n",
       "      <th>1</th>\n",
       "      <td>Att_Att</td>\n",
       "      <td>0.165379</td>\n",
       "      <td>0.211428</td>\n",
       "      <td>0.167843</td>\n",
       "      <td>0.212643</td>\n",
       "      <td>NaN</td>\n",
       "      <td>NaN</td>\n",
       "      <td>NaN</td>\n",
       "      <td>NaN</td>\n",
       "      <td>NaN</td>\n",
       "      <td>NaN</td>\n",
       "    </tr>\n",
       "  </tbody>\n",
       "</table>\n",
       "</div>"
      ],
      "text/plain": [
       "      Model  Run 1 (MSE)  Run 1 (MAE)  Run 2 (MSE)  Run 2 (MAE)  Run 3 (MSE)  \\\n",
       "0  inverted     0.193265     0.242895     0.178333     0.221451     0.178728   \n",
       "1   Att_Att     0.165379     0.211428     0.167843     0.212643          NaN   \n",
       "\n",
       "   Run 3 (MAE)  MSE Moyenne  MSE Variance  MAE Moyenne  MAE Variance  \n",
       "0      0.22004     0.183442      0.000109     0.183442      0.000109  \n",
       "1          NaN          NaN           NaN          NaN           NaN  "
      ]
     },
     "execution_count": 7,
     "metadata": {},
     "output_type": "execute_result"
    }
   ],
   "source": [
    "res"
   ]
  },
  {
   "cell_type": "code",
   "execution_count": 8,
   "metadata": {},
   "outputs": [
    {
     "data": {
      "text/plain": [
       "[0.1932651153593151, 0.1783328000973496, 0.1787275391527348]"
      ]
     },
     "execution_count": 8,
     "metadata": {},
     "output_type": "execute_result"
    }
   ],
   "source": [
    "mse"
   ]
  },
  {
   "cell_type": "code",
   "execution_count": 9,
   "metadata": {},
   "outputs": [
    {
     "data": {
      "text/plain": [
       "[0.2428947411201618, 0.221450579824087, 0.2200397363185514]"
      ]
     },
     "execution_count": 9,
     "metadata": {},
     "output_type": "execute_result"
    }
   ],
   "source": [
    "mae"
   ]
  },
  {
   "cell_type": "code",
   "execution_count": null,
   "metadata": {},
   "outputs": [],
   "source": []
  }
 ],
 "metadata": {
  "kernelspec": {
   "display_name": "Python 3",
   "language": "python",
   "name": "python3"
  },
  "language_info": {
   "codemirror_mode": {
    "name": "ipython",
    "version": 3
   },
   "file_extension": ".py",
   "mimetype": "text/x-python",
   "name": "python",
   "nbconvert_exporter": "python",
   "pygments_lexer": "ipython3",
   "version": "3.10.12"
  }
 },
 "nbformat": 4,
 "nbformat_minor": 2
}
